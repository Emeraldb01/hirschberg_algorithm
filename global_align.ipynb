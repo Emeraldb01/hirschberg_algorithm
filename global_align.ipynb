{
 "cells": [
  {
   "cell_type": "code",
   "execution_count": 5,
   "metadata": {},
   "outputs": [],
   "source": [
    "import time\n",
    "import tracemalloc"
   ]
  },
  {
   "cell_type": "code",
   "execution_count": 6,
   "metadata": {},
   "outputs": [],
   "source": [
    "UP = (-1,0)\n",
    "LEFT = (0, -1)\n",
    "TOPLEFT = (-1, -1)\n",
    "ORIGIN = (0, 0)\n",
    "\n",
    "def traceback_global(v, w, pointers):\n",
    "  i,j = len(v), len(w)\n",
    "  new_v = []\n",
    "  new_w = []\n",
    "  while True:\n",
    "      di, dj = pointers[i][j]\n",
    "      if (di,dj) == LEFT:\n",
    "          new_v.append('-')\n",
    "          new_w.append(w[j-1])\n",
    "      elif (di,dj) == UP:\n",
    "          new_v.append(v[i-1])\n",
    "          new_w.append('-')\n",
    "      elif (di,dj) == TOPLEFT:\n",
    "          new_v.append(v[i-1])\n",
    "          new_w.append(w[j-1])\n",
    "      i, j = i + di, j + dj\n",
    "      if (i <= 0 and j <= 0):\n",
    "          break\n",
    "  return ''.join(new_v[::-1])+'\\n'+''.join(new_w[::-1])\n",
    "\n",
    "\n",
    "\n",
    "def global_align(v, w, delta):\n",
    "  \"\"\"\n",
    "  Returns the score of the maximum scoring alignment of the strings v and w, as well as the actual alignment as\n",
    "  computed by traceback_global.\n",
    "\n",
    "  :param: v\n",
    "  :param: w\n",
    "  :param: delta\n",
    "  \"\"\"\n",
    "  start_time = time.time()\n",
    "  tracemalloc.start()\n",
    "  \n",
    "  M = [[0 for j in range(len(w)+1)] for i in range(len(v)+1)]\n",
    "  pointers = [[ORIGIN for j in range(len(w)+1)] for i in range(len(v)+1)]\n",
    "  score, alignment = None, None\n",
    "\n",
    "  # YOUR CODE HERE\n",
    "  M[0][0] = 0;\n",
    "  for i in range(1, len(v) + 1):\n",
    "    cur_v = v[i - 1]\n",
    "    M[i][0] = M[i - 1][0] + delta[cur_v][\"-\"]\n",
    "    pointers[i][0] = UP\n",
    "\n",
    "  for i in range(1, len(w) + 1):\n",
    "    cur_w = w[i - 1]\n",
    "    M[0][i] = M[0][i - 1] + delta[\"-\"][cur_w]\n",
    "    pointers[0][i] = LEFT\n",
    "\n",
    "  for i in range(1, len(v) + 1):\n",
    "    for j in range(1, len(w) + 1):\n",
    "      cur_v = v[i - 1]\n",
    "      cur_w = w[j - 1]\n",
    "\n",
    "      left_score = M[i][j - 1] + delta[\"-\"][cur_w]\n",
    "      top_score = M[i - 1][j] + delta[cur_v][\"-\"]\n",
    "\n",
    "      M[i][j] = max(left_score, M[i - 1][j - 1] + delta[cur_v][cur_w], top_score)\n",
    "\n",
    "      if M[i][j] == left_score:\n",
    "        pointers[i][j] = LEFT\n",
    "      elif M[i][j] == top_score:\n",
    "        pointers[i][j] = UP\n",
    "      else:\n",
    "        pointers[i][j] = TOPLEFT\n",
    "\n",
    "  score = M[len(v)][len(w)]\n",
    "\n",
    "  alignment = traceback_global(v,w, pointers)\n",
    "\n",
    "  # Stop memory tracking and calculate time elapsed\n",
    "  end_time = time.time()\n",
    "  current, peak = tracemalloc.get_traced_memory()\n",
    "  tracemalloc.stop()\n",
    "  elapsed_time = end_time - start_time\n",
    "\n",
    "  print(f\"Time taken: {elapsed_time:.4f} seconds\")\n",
    "  print(f\"Current memory usage: {current / 10**6:.2f} MB\")\n",
    "  print(f\"Peak memory usage: {peak / 10**6:.2f} MB\")\n",
    "\n",
    "  return score, alignment"
   ]
  },
  {
   "cell_type": "code",
   "execution_count": 7,
   "metadata": {},
   "outputs": [
    {
     "name": "stdout",
     "output_type": "stream",
     "text": [
      "Time taken: 0.0004 seconds\n",
      "Current memory usage: 0.01 MB\n",
      "Peak memory usage: 0.01 MB\n"
     ]
    },
    {
     "data": {
      "text/plain": [
       "(-3, '-TAG----A---T-A\\nGTAGGCTTAAGGTTA')"
      ]
     },
     "execution_count": 7,
     "metadata": {},
     "output_type": "execute_result"
    }
   ],
   "source": [
    "keys = ['A', 'C', 'T', 'G', '-']\n",
    "delta = {}\n",
    "for i in range(len(keys)):\n",
    "    delta[keys[i]] = {k : v for (k,v) in zip(keys, [1 if keys[i] == keys[j]  else -1 for j in range(len(keys))])}\n",
    "\n",
    "global_align(\"TAGATA\", \"GTAGGCTTAAGGTTA\", delta)"
   ]
  },
  {
   "cell_type": "code",
   "execution_count": 8,
   "metadata": {},
   "outputs": [
    {
     "name": "stdout",
     "output_type": "stream",
     "text": [
      "appnope==0.1.4\n",
      "asttokens==2.4.1\n",
      "comm==0.2.2\n",
      "debugpy==1.8.8\n",
      "decorator==5.1.1\n",
      "exceptiongroup==1.2.2\n",
      "executing==2.1.0\n",
      "importlib_metadata==8.5.0\n",
      "ipykernel==6.29.5\n",
      "ipython==8.18.1\n",
      "jedi==0.19.2\n",
      "jupyter_client==8.6.3\n",
      "jupyter_core==5.7.2\n",
      "matplotlib-inline==0.1.7\n",
      "nest-asyncio==1.6.0\n",
      "packaging==24.2\n",
      "parso==0.8.4\n",
      "pexpect==4.9.0\n",
      "platformdirs==4.3.6\n",
      "prompt_toolkit==3.0.48\n",
      "psutil==6.1.0\n",
      "ptyprocess==0.7.0\n",
      "pure_eval==0.2.3\n",
      "Pygments==2.18.0\n",
      "python-dateutil==2.9.0.post0\n",
      "pyzmq==26.2.0\n",
      "six==1.16.0\n",
      "stack-data==0.6.3\n",
      "tornado==6.4.1\n",
      "traitlets==5.14.3\n",
      "typing_extensions==4.12.2\n",
      "wcwidth==0.2.13\n",
      "zipp==3.21.0\n"
     ]
    }
   ],
   "source": [
    "!pip freeze"
   ]
  },
  {
   "cell_type": "code",
   "execution_count": null,
   "metadata": {},
   "outputs": [],
   "source": []
  }
 ],
 "metadata": {
  "kernelspec": {
   "display_name": "Python 3",
   "language": "python",
   "name": "python3"
  },
  "language_info": {
   "codemirror_mode": {
    "name": "ipython",
    "version": 3
   },
   "file_extension": ".py",
   "mimetype": "text/x-python",
   "name": "python",
   "nbconvert_exporter": "python",
   "pygments_lexer": "ipython3",
   "version": "3.9.6"
  }
 },
 "nbformat": 4,
 "nbformat_minor": 2
}
